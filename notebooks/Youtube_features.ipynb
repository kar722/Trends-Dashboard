{
 "cells": [
  {
   "cell_type": "code",
   "execution_count": null,
   "metadata": {
    "colab": {
     "base_uri": "https://localhost:8080/"
    },
    "executionInfo": {
     "elapsed": 73410,
     "status": "ok",
     "timestamp": 1750885906399,
     "user": {
      "displayName": "Tanushri Pinjala",
      "userId": "15418905072701468699"
     },
     "user_tz": 420
    },
    "id": "_TnSib6lzQ5_",
    "outputId": "06a24c22-f0ab-4ebf-c5e2-27311ea06af5"
   },
   "outputs": [
    {
     "name": "stdout",
     "output_type": "stream",
     "text": [
      "Found existing installation: transformers 4.52.4\n",
      "Uninstalling transformers-4.52.4:\n",
      "  Successfully uninstalled transformers-4.52.4\n",
      "\u001b[33mWARNING: Ignoring invalid distribution ~ransformers (/usr/local/lib/python3.11/dist-packages)\u001b[0m\u001b[33m\n",
      "\u001b[0mFound existing installation: torch 2.7.1\n",
      "Uninstalling torch-2.7.1:\n",
      "  Successfully uninstalled torch-2.7.1\n",
      "\u001b[33mWARNING: Ignoring invalid distribution ~ransformers (/usr/local/lib/python3.11/dist-packages)\u001b[0m\u001b[33m\n",
      "\u001b[0mFound existing installation: torchvision 0.22.1\n",
      "Uninstalling torchvision-0.22.1:\n",
      "  Successfully uninstalled torchvision-0.22.1\n",
      "\u001b[33mWARNING: Ignoring invalid distribution ~ransformers (/usr/local/lib/python3.11/dist-packages)\u001b[0m\u001b[33m\n",
      "\u001b[0m\u001b[33mWARNING: Ignoring invalid distribution ~ransformers (/usr/local/lib/python3.11/dist-packages)\u001b[0m\u001b[33m\n",
      "\u001b[0mCollecting torch\n",
      "  Using cached torch-2.7.1-cp311-cp311-manylinux_2_28_x86_64.whl.metadata (29 kB)\n",
      "Collecting torchvision\n",
      "  Using cached torchvision-0.22.1-cp311-cp311-manylinux_2_28_x86_64.whl.metadata (6.1 kB)\n",
      "Requirement already satisfied: filelock in /usr/local/lib/python3.11/dist-packages (from torch) (3.18.0)\n",
      "Requirement already satisfied: typing-extensions>=4.10.0 in /usr/local/lib/python3.11/dist-packages (from torch) (4.14.0)\n",
      "Requirement already satisfied: sympy>=1.13.3 in /usr/local/lib/python3.11/dist-packages (from torch) (1.14.0)\n",
      "Requirement already satisfied: networkx in /usr/local/lib/python3.11/dist-packages (from torch) (3.5)\n",
      "Requirement already satisfied: jinja2 in /usr/local/lib/python3.11/dist-packages (from torch) (3.1.6)\n",
      "Requirement already satisfied: fsspec in /usr/local/lib/python3.11/dist-packages (from torch) (2025.3.2)\n",
      "Requirement already satisfied: nvidia-cuda-nvrtc-cu12==12.6.77 in /usr/local/lib/python3.11/dist-packages (from torch) (12.6.77)\n",
      "Requirement already satisfied: nvidia-cuda-runtime-cu12==12.6.77 in /usr/local/lib/python3.11/dist-packages (from torch) (12.6.77)\n",
      "Requirement already satisfied: nvidia-cuda-cupti-cu12==12.6.80 in /usr/local/lib/python3.11/dist-packages (from torch) (12.6.80)\n",
      "Requirement already satisfied: nvidia-cudnn-cu12==9.5.1.17 in /usr/local/lib/python3.11/dist-packages (from torch) (9.5.1.17)\n",
      "Requirement already satisfied: nvidia-cublas-cu12==12.6.4.1 in /usr/local/lib/python3.11/dist-packages (from torch) (12.6.4.1)\n",
      "Requirement already satisfied: nvidia-cufft-cu12==11.3.0.4 in /usr/local/lib/python3.11/dist-packages (from torch) (11.3.0.4)\n",
      "Requirement already satisfied: nvidia-curand-cu12==10.3.7.77 in /usr/local/lib/python3.11/dist-packages (from torch) (10.3.7.77)\n",
      "Requirement already satisfied: nvidia-cusolver-cu12==11.7.1.2 in /usr/local/lib/python3.11/dist-packages (from torch) (11.7.1.2)\n",
      "Requirement already satisfied: nvidia-cusparse-cu12==12.5.4.2 in /usr/local/lib/python3.11/dist-packages (from torch) (12.5.4.2)\n",
      "Requirement already satisfied: nvidia-cusparselt-cu12==0.6.3 in /usr/local/lib/python3.11/dist-packages (from torch) (0.6.3)\n",
      "Requirement already satisfied: nvidia-nccl-cu12==2.26.2 in /usr/local/lib/python3.11/dist-packages (from torch) (2.26.2)\n",
      "Requirement already satisfied: nvidia-nvtx-cu12==12.6.77 in /usr/local/lib/python3.11/dist-packages (from torch) (12.6.77)\n",
      "Requirement already satisfied: nvidia-nvjitlink-cu12==12.6.85 in /usr/local/lib/python3.11/dist-packages (from torch) (12.6.85)\n",
      "Requirement already satisfied: nvidia-cufile-cu12==1.11.1.6 in /usr/local/lib/python3.11/dist-packages (from torch) (1.11.1.6)\n",
      "Requirement already satisfied: triton==3.3.1 in /usr/local/lib/python3.11/dist-packages (from torch) (3.3.1)\n",
      "Requirement already satisfied: setuptools>=40.8.0 in /usr/local/lib/python3.11/dist-packages (from triton==3.3.1->torch) (75.2.0)\n",
      "Requirement already satisfied: numpy in /usr/local/lib/python3.11/dist-packages (from torchvision) (2.0.2)\n",
      "Requirement already satisfied: pillow!=8.3.*,>=5.3.0 in /usr/local/lib/python3.11/dist-packages (from torchvision) (11.2.1)\n",
      "Requirement already satisfied: mpmath<1.4,>=1.1.0 in /usr/local/lib/python3.11/dist-packages (from sympy>=1.13.3->torch) (1.3.0)\n",
      "Requirement already satisfied: MarkupSafe>=2.0 in /usr/local/lib/python3.11/dist-packages (from jinja2->torch) (3.0.2)\n",
      "Using cached torch-2.7.1-cp311-cp311-manylinux_2_28_x86_64.whl (821.2 MB)\n",
      "Using cached torchvision-0.22.1-cp311-cp311-manylinux_2_28_x86_64.whl (7.5 MB)\n",
      "\u001b[33mWARNING: Ignoring invalid distribution ~ransformers (/usr/local/lib/python3.11/dist-packages)\u001b[0m\u001b[33m\n",
      "\u001b[0mInstalling collected packages: torch, torchvision\n",
      "\u001b[33mWARNING: Ignoring invalid distribution ~ransformers (/usr/local/lib/python3.11/dist-packages)\u001b[0m\u001b[33m\n",
      "\u001b[0m\u001b[33mWARNING: Ignoring invalid distribution ~ransformers (/usr/local/lib/python3.11/dist-packages)\u001b[0m\u001b[33m\n",
      "\u001b[0m\u001b[31mERROR: pip's dependency resolver does not currently take into account all the packages that are installed. This behaviour is the source of the following dependency conflicts.\n",
      "peft 0.15.2 requires transformers, which is not installed.\n",
      "sentence-transformers 4.1.0 requires transformers<5.0.0,>=4.41.0, which is not installed.\n",
      "fastai 2.7.19 requires torch<2.7,>=1.10, but you have torch 2.7.1 which is incompatible.\n",
      "torchaudio 2.6.0+cu124 requires torch==2.6.0, but you have torch 2.7.1 which is incompatible.\u001b[0m\u001b[31m\n",
      "\u001b[0mSuccessfully installed torch-2.7.1 torchvision-0.22.1\n",
      "\u001b[33mWARNING: Ignoring invalid distribution ~ransformers (/usr/local/lib/python3.11/dist-packages)\u001b[0m\u001b[33m\n",
      "\u001b[0m\u001b[33mWARNING: Ignoring invalid distribution ~ransformers (/usr/local/lib/python3.11/dist-packages)\u001b[0m\u001b[33m\n",
      "\u001b[0mCollecting transformers==4.40.1\n",
      "  Using cached transformers-4.40.1-py3-none-any.whl.metadata (137 kB)\n",
      "Requirement already satisfied: filelock in /usr/local/lib/python3.11/dist-packages (from transformers==4.40.1) (3.18.0)\n",
      "Requirement already satisfied: huggingface-hub<1.0,>=0.19.3 in /usr/local/lib/python3.11/dist-packages (from transformers==4.40.1) (0.33.0)\n",
      "Requirement already satisfied: numpy>=1.17 in /usr/local/lib/python3.11/dist-packages (from transformers==4.40.1) (2.0.2)\n",
      "Requirement already satisfied: packaging>=20.0 in /usr/local/lib/python3.11/dist-packages (from transformers==4.40.1) (24.2)\n",
      "Requirement already satisfied: pyyaml>=5.1 in /usr/local/lib/python3.11/dist-packages (from transformers==4.40.1) (6.0.2)\n",
      "Requirement already satisfied: regex!=2019.12.17 in /usr/local/lib/python3.11/dist-packages (from transformers==4.40.1) (2024.11.6)\n",
      "Requirement already satisfied: requests in /usr/local/lib/python3.11/dist-packages (from transformers==4.40.1) (2.32.3)\n",
      "Collecting tokenizers<0.20,>=0.19 (from transformers==4.40.1)\n",
      "  Using cached tokenizers-0.19.1-cp311-cp311-manylinux_2_17_x86_64.manylinux2014_x86_64.whl.metadata (6.7 kB)\n",
      "Requirement already satisfied: safetensors>=0.4.1 in /usr/local/lib/python3.11/dist-packages (from transformers==4.40.1) (0.5.3)\n",
      "Requirement already satisfied: tqdm>=4.27 in /usr/local/lib/python3.11/dist-packages (from transformers==4.40.1) (4.67.1)\n",
      "Requirement already satisfied: fsspec>=2023.5.0 in /usr/local/lib/python3.11/dist-packages (from huggingface-hub<1.0,>=0.19.3->transformers==4.40.1) (2025.3.2)\n",
      "Requirement already satisfied: typing-extensions>=3.7.4.3 in /usr/local/lib/python3.11/dist-packages (from huggingface-hub<1.0,>=0.19.3->transformers==4.40.1) (4.14.0)\n",
      "Requirement already satisfied: hf-xet<2.0.0,>=1.1.2 in /usr/local/lib/python3.11/dist-packages (from huggingface-hub<1.0,>=0.19.3->transformers==4.40.1) (1.1.5)\n",
      "Requirement already satisfied: charset-normalizer<4,>=2 in /usr/local/lib/python3.11/dist-packages (from requests->transformers==4.40.1) (3.4.2)\n",
      "Requirement already satisfied: idna<4,>=2.5 in /usr/local/lib/python3.11/dist-packages (from requests->transformers==4.40.1) (3.10)\n",
      "Requirement already satisfied: urllib3<3,>=1.21.1 in /usr/local/lib/python3.11/dist-packages (from requests->transformers==4.40.1) (2.4.0)\n",
      "Requirement already satisfied: certifi>=2017.4.17 in /usr/local/lib/python3.11/dist-packages (from requests->transformers==4.40.1) (2025.6.15)\n",
      "Using cached transformers-4.40.1-py3-none-any.whl (9.0 MB)\n",
      "Using cached tokenizers-0.19.1-cp311-cp311-manylinux_2_17_x86_64.manylinux2014_x86_64.whl (3.6 MB)\n",
      "\u001b[33mWARNING: Ignoring invalid distribution ~ransformers (/usr/local/lib/python3.11/dist-packages)\u001b[0m\u001b[33m\n",
      "\u001b[0mInstalling collected packages: tokenizers, transformers\n",
      "  Attempting uninstall: tokenizers\n",
      "\u001b[33m    WARNING: Ignoring invalid distribution ~ransformers (/usr/local/lib/python3.11/dist-packages)\u001b[0m\u001b[33m\n",
      "\u001b[0m    Found existing installation: tokenizers 0.21.2\n",
      "    Uninstalling tokenizers-0.21.2:\n",
      "      Successfully uninstalled tokenizers-0.21.2\n",
      "\u001b[31mERROR: pip's dependency resolver does not currently take into account all the packages that are installed. This behaviour is the source of the following dependency conflicts.\n",
      "sentence-transformers 4.1.0 requires transformers<5.0.0,>=4.41.0, but you have transformers 4.40.1 which is incompatible.\u001b[0m\u001b[31m\n",
      "\u001b[0mSuccessfully installed tokenizers-0.19.1 transformers-4.40.1\n",
      "Requirement already satisfied: google-api-python-client in /usr/local/lib/python3.11/dist-packages (2.174.0)\n",
      "Requirement already satisfied: langdetect in /usr/local/lib/python3.11/dist-packages (1.0.9)\n",
      "Requirement already satisfied: httplib2<1.0.0,>=0.19.0 in /usr/local/lib/python3.11/dist-packages (from google-api-python-client) (0.22.0)\n",
      "Requirement already satisfied: google-auth!=2.24.0,!=2.25.0,<3.0.0,>=1.32.0 in /usr/local/lib/python3.11/dist-packages (from google-api-python-client) (2.38.0)\n",
      "Requirement already satisfied: google-auth-httplib2<1.0.0,>=0.2.0 in /usr/local/lib/python3.11/dist-packages (from google-api-python-client) (0.2.0)\n",
      "Requirement already satisfied: google-api-core!=2.0.*,!=2.1.*,!=2.2.*,!=2.3.0,<3.0.0,>=1.31.5 in /usr/local/lib/python3.11/dist-packages (from google-api-python-client) (2.25.1)\n",
      "Requirement already satisfied: uritemplate<5,>=3.0.1 in /usr/local/lib/python3.11/dist-packages (from google-api-python-client) (4.2.0)\n",
      "Requirement already satisfied: six in /usr/local/lib/python3.11/dist-packages (from langdetect) (1.17.0)\n",
      "Requirement already satisfied: googleapis-common-protos<2.0.0,>=1.56.2 in /usr/local/lib/python3.11/dist-packages (from google-api-core!=2.0.*,!=2.1.*,!=2.2.*,!=2.3.0,<3.0.0,>=1.31.5->google-api-python-client) (1.70.0)\n",
      "Requirement already satisfied: protobuf!=3.20.0,!=3.20.1,!=4.21.0,!=4.21.1,!=4.21.2,!=4.21.3,!=4.21.4,!=4.21.5,<7.0.0,>=3.19.5 in /usr/local/lib/python3.11/dist-packages (from google-api-core!=2.0.*,!=2.1.*,!=2.2.*,!=2.3.0,<3.0.0,>=1.31.5->google-api-python-client) (5.29.5)\n",
      "Requirement already satisfied: proto-plus<2.0.0,>=1.22.3 in /usr/local/lib/python3.11/dist-packages (from google-api-core!=2.0.*,!=2.1.*,!=2.2.*,!=2.3.0,<3.0.0,>=1.31.5->google-api-python-client) (1.26.1)\n",
      "Requirement already satisfied: requests<3.0.0,>=2.18.0 in /usr/local/lib/python3.11/dist-packages (from google-api-core!=2.0.*,!=2.1.*,!=2.2.*,!=2.3.0,<3.0.0,>=1.31.5->google-api-python-client) (2.32.3)\n",
      "Requirement already satisfied: cachetools<6.0,>=2.0.0 in /usr/local/lib/python3.11/dist-packages (from google-auth!=2.24.0,!=2.25.0,<3.0.0,>=1.32.0->google-api-python-client) (5.5.2)\n",
      "Requirement already satisfied: pyasn1-modules>=0.2.1 in /usr/local/lib/python3.11/dist-packages (from google-auth!=2.24.0,!=2.25.0,<3.0.0,>=1.32.0->google-api-python-client) (0.4.2)\n",
      "Requirement already satisfied: rsa<5,>=3.1.4 in /usr/local/lib/python3.11/dist-packages (from google-auth!=2.24.0,!=2.25.0,<3.0.0,>=1.32.0->google-api-python-client) (4.9.1)\n",
      "Requirement already satisfied: pyparsing!=3.0.0,!=3.0.1,!=3.0.2,!=3.0.3,<4,>=2.4.2 in /usr/local/lib/python3.11/dist-packages (from httplib2<1.0.0,>=0.19.0->google-api-python-client) (3.2.3)\n",
      "Requirement already satisfied: pyasn1<0.7.0,>=0.6.1 in /usr/local/lib/python3.11/dist-packages (from pyasn1-modules>=0.2.1->google-auth!=2.24.0,!=2.25.0,<3.0.0,>=1.32.0->google-api-python-client) (0.6.1)\n",
      "Requirement already satisfied: charset-normalizer<4,>=2 in /usr/local/lib/python3.11/dist-packages (from requests<3.0.0,>=2.18.0->google-api-core!=2.0.*,!=2.1.*,!=2.2.*,!=2.3.0,<3.0.0,>=1.31.5->google-api-python-client) (3.4.2)\n",
      "Requirement already satisfied: idna<4,>=2.5 in /usr/local/lib/python3.11/dist-packages (from requests<3.0.0,>=2.18.0->google-api-core!=2.0.*,!=2.1.*,!=2.2.*,!=2.3.0,<3.0.0,>=1.31.5->google-api-python-client) (3.10)\n",
      "Requirement already satisfied: urllib3<3,>=1.21.1 in /usr/local/lib/python3.11/dist-packages (from requests<3.0.0,>=2.18.0->google-api-core!=2.0.*,!=2.1.*,!=2.2.*,!=2.3.0,<3.0.0,>=1.31.5->google-api-python-client) (2.4.0)\n",
      "Requirement already satisfied: certifi>=2017.4.17 in /usr/local/lib/python3.11/dist-packages (from requests<3.0.0,>=2.18.0->google-api-core!=2.0.*,!=2.1.*,!=2.2.*,!=2.3.0,<3.0.0,>=1.31.5->google-api-python-client) (2025.6.15)\n"
     ]
    }
   ],
   "source": [
    "!pip uninstall -y transformers torch torchvision\n",
    "!pip install torch torchvision --upgrade\n",
    "!pip install transformers==4.40.1\n",
    "!pip install google-api-python-client langdetect"
   ]
  },
  {
   "cell_type": "markdown",
   "metadata": {
    "id": "_Snc87RDyx0Y"
   },
   "source": [
    "#Potentially Useful Methods - Youtube API\n",
    "| **Method**                 | **Returns**                                                          | **Use Case**                                                                    |\n",
    "| -------------------------- | -------------------------------------------------------------------- | ------------------------------------------------------------------------------- |\n",
    "| `search().list()`          | Metadata for videos, channels, or playlists matching a query         | - Keyword search<br>- Find trending or recent videos<br>- Filter by region/date |\n",
    "| `videos().list()`          | Details for one or more videos: title, views, likes, duration, etc.  | - Video analytics<br>- Engagement tracking<br>- Content enrichment              |\n",
    "| `commentThreads().list()`  | Top-level comments on a video (text, likes, publish time, author)    | - Sentiment analysis<br>- User feedback mining<br>- Comment scraping            |\n",
    "| `channels().list()`        | Channel info: subscriber count, total views, uploads playlist, etc.  | - Creator insights<br>- Competitor analysis<br>- Channel tracking               |\n",
    "| `playlistItems().list()`   | All videos in a given playlist (e.g., uploads, curated lists)        | - Get full video lists<br>- Scrape all uploads<br>- Analyze playlists           |\n",
    "| `videoCategories().list()` | List of video categories (e.g., Music, Education) by region          | - Category tagging<br>- Data labeling<br>- Content classification               |\n",
    "| `videos().getRating()`     | Authenticated user's rating of a video (like/dislike/none)           | - Personalized apps (requires OAuth)<br>- User engagement tracking              |\n",
    "| `activities().list()`      | A channel’s activity feed: uploads, likes, comments (OAuth required) | - Track user/channel behavior<br>- Social graph exploration                     |"
   ]
  },
  {
   "cell_type": "markdown",
   "metadata": {
    "id": "ydAhMiIHAmCU"
   },
   "source": [
    "## Widget #1: Top 5 videos for a keyword based on view count"
   ]
  },
  {
   "cell_type": "code",
   "execution_count": null,
   "metadata": {
    "colab": {
     "base_uri": "https://localhost:8080/"
    },
    "executionInfo": {
     "elapsed": 540,
     "status": "ok",
     "timestamp": 1750886139504,
     "user": {
      "displayName": "Tanushri Pinjala",
      "userId": "15418905072701468699"
     },
     "user_tz": 420
    },
    "id": "SzzpcfjmyvEw",
    "outputId": "40082ecb-4104-4f75-edb2-2961bfdcf43a"
   },
   "outputs": [
    {
     "name": "stdout",
     "output_type": "stream",
     "text": [
      "\n",
      "Top 5 most viewed videos for keyword: 'oat milk'\n",
      "\n",
      "Iced Caramel Oat Milk Latte! 📸💫 — 7,946,934 views\n",
      "LUV Oat Milk - Luv นมโอ๊ต รักอร่อย ต้องลัฟโอ๊ต — 4,621,314 views\n",
      "Which is better? Almond Milk, Whole Milk or Oat Milk? 🥛 — 4,420,742 views\n",
      "That lactose-intolerant friend who won’t pay extra for oat milk 🤦‍♂️ — 4,291,802 views\n",
      "Oat milk — 2,654,154 views\n"
     ]
    }
   ],
   "source": [
    "from googleapiclient.discovery import build\n",
    "\n",
    "# Define the search keyword (lowercased for exact matching)\n",
    "keyword = \"oat milk\".lower()\n",
    "\n",
    "# Initialize YouTube API\n",
    "api_key = 'API-KEY'\n",
    "youtube = build('youtube', 'v3', developerKey=api_key)\n",
    "\n",
    "# Step 1: Search for videos\n",
    "search_response = youtube.search().list(\n",
    "    q=f'\"{keyword}\"',  # Quoted for better relevance\n",
    "    part='snippet',\n",
    "    type='video',\n",
    "    order='viewCount',\n",
    "    maxResults=25,\n",
    "    safeSearch='strict'\n",
    ").execute()\n",
    "\n",
    "# Step 2: Filter for exact phrase match\n",
    "filtered_items = []\n",
    "for item in search_response['items']:\n",
    "    title = item['snippet']['title'].lower()\n",
    "    description = item['snippet'].get('description', '').lower()\n",
    "    if keyword in title or keyword in description:\n",
    "        filtered_items.append(item)\n",
    "\n",
    "# Step 3: Extract video IDs\n",
    "video_ids = [item['id']['videoId'] for item in filtered_items]\n",
    "\n",
    "# Step 4: Fetch statistics\n",
    "if video_ids:\n",
    "    video_response = youtube.videos().list(\n",
    "        part='snippet,statistics',\n",
    "        id=','.join(video_ids)\n",
    "    ).execute()\n",
    "\n",
    "    videos = []\n",
    "    for item in video_response['items']:\n",
    "        title = item['snippet']['title']\n",
    "        views = int(item['statistics'].get('viewCount', 0))\n",
    "        videos.append((title, views))\n",
    "\n",
    "    # Sort and display\n",
    "    top_videos = sorted(videos, key=lambda x: x[1], reverse=True)[:5]\n",
    "    print(f\"\\nTop 5 most viewed videos for keyword: '{keyword}'\\n\")\n",
    "    for title, views in top_videos:\n",
    "        print(f\"{title} — {views:,} views\")\n",
    "else:\n",
    "    print(f\"No videos found with exact phrase '{keyword}'.\")\n"
   ]
  },
  {
   "cell_type": "markdown",
   "metadata": {
    "id": "u9vEuxIuAzDW"
   },
   "source": [
    "## Widget #2: Sentiment breakdown based on top-ranked recent videos with keyword\n",
    "Notes: Because of API call limits, the results are based off of up to 25 top videos related to the keyword (not comprehensive of all videos with keyword)"
   ]
  },
  {
   "cell_type": "code",
   "execution_count": null,
   "metadata": {
    "colab": {
     "base_uri": "https://localhost:8080/",
     "height": 265,
     "referenced_widgets": [
      "cdb236b2d2a04c35a7aa6c387261c041",
      "9aa991dcb6834f4bb292d6dad6efb580",
      "4b70f1d228674dbd9ba5ac776a027861",
      "c1ab4fb53c7649fb83d3965c0f78f68b",
      "06e90238f68d4737bfa3d6976e645868",
      "ed86f50adc0643e5aa74a0dbf146dcba",
      "97601ed26d884be2b8720dcd0e9e4a8f",
      "92ebbb1ce2aa45aaabaa29b8ba138d59",
      "fa8b7ed663d445a6a9b59f264c3e7fd3",
      "ba13ff91b6e04b4eaa65fca21d2bf5a7",
      "8526f90d34aa432aa28a0cae80f9da4f"
     ]
    },
    "executionInfo": {
     "elapsed": 19250,
     "status": "ok",
     "timestamp": 1750885949226,
     "user": {
      "displayName": "Tanushri Pinjala",
      "userId": "15418905072701468699"
     },
     "user_tz": 420
    },
    "id": "dRpT08D5403p",
    "outputId": "7c0f1ef6-bbef-49fa-9d83-2e39d9d62e91"
   },
   "outputs": [
    {
     "name": "stderr",
     "output_type": "stream",
     "text": [
      "/usr/local/lib/python3.11/dist-packages/huggingface_hub/file_download.py:943: FutureWarning: `resume_download` is deprecated and will be removed in version 1.0.0. Downloads always resume when possible. If you want to force a new download, use `force_download=True`.\n",
      "  warnings.warn(\n",
      "/usr/local/lib/python3.11/dist-packages/huggingface_hub/utils/_auth.py:94: UserWarning: \n",
      "The secret `HF_TOKEN` does not exist in your Colab secrets.\n",
      "To authenticate with the Hugging Face Hub, create a token in your settings tab (https://huggingface.co/settings/tokens), set it as secret in your Google Colab and restart your session.\n",
      "You will be able to reuse this secret in all of your notebooks.\n",
      "Please note that authentication is recommended but still optional to access public models or datasets.\n",
      "  warnings.warn(\n",
      "/usr/local/lib/python3.11/dist-packages/huggingface_hub/file_download.py:943: FutureWarning: `resume_download` is deprecated and will be removed in version 1.0.0. Downloads always resume when possible. If you want to force a new download, use `force_download=True`.\n",
      "  warnings.warn(\n"
     ]
    },
    {
     "data": {
      "application/vnd.jupyter.widget-view+json": {
       "model_id": "cdb236b2d2a04c35a7aa6c387261c041",
       "version_major": 2,
       "version_minor": 0
      },
      "text/plain": [
       "pytorch_model.bin:   0%|          | 0.00/499M [00:00<?, ?B/s]"
      ]
     },
     "metadata": {},
     "output_type": "display_data"
    },
    {
     "name": "stdout",
     "output_type": "stream",
     "text": [
      "Model loaded successfully!\n"
     ]
    }
   ],
   "source": [
    "from transformers import AutoModelForSequenceClassification\n",
    "\n",
    "model_name = \"cardiffnlp/twitter-roberta-base-sentiment\"\n",
    "model = AutoModelForSequenceClassification.from_pretrained(model_name)\n",
    "print(\"Model loaded successfully!\")\n"
   ]
  },
  {
   "cell_type": "code",
   "execution_count": null,
   "metadata": {
    "colab": {
     "base_uri": "https://localhost:8080/",
     "height": 702
    },
    "executionInfo": {
     "elapsed": 8817,
     "status": "ok",
     "timestamp": 1750887984729,
     "user": {
      "displayName": "Tanushri Pinjala",
      "userId": "15418905072701468699"
     },
     "user_tz": 420
    },
    "id": "j9_CUWTW3qtU",
    "outputId": "819dce98-1777-49ef-fe0f-323bda611157"
   },
   "outputs": [
    {
     "name": "stdout",
     "output_type": "stream",
     "text": [
      "Found 25 relevant English video titles.\n",
      "\n"
     ]
    },
    {
     "name": "stderr",
     "output_type": "stream",
     "text": [
      "/usr/local/lib/python3.11/dist-packages/huggingface_hub/file_download.py:943: FutureWarning: `resume_download` is deprecated and will be removed in version 1.0.0. Downloads always resume when possible. If you want to force a new download, use `force_download=True`.\n",
      "  warnings.warn(\n",
      "Asking to truncate to max_length but no maximum length is provided and the model has no predefined maximum length. Default to no truncation.\n"
     ]
    },
    {
     "name": "stdout",
     "output_type": "stream",
     "text": [
      "Sentiment Analysis of Recent English YouTube Titles:\n",
      "Negative: 4\n",
      "Neutral: 17\n",
      "Positive: 4\n"
     ]
    },
    {
     "data": {
      "image/png": "[encoded data removed]",
      "text/plain": [
       "<Figure size 600x600 with 1 Axes>"
      ]
     },
     "metadata": {},
     "output_type": "display_data"
    }
   ],
   "source": [
    "from googleapiclient.discovery import build\n",
    "from transformers import AutoTokenizer, AutoModelForSequenceClassification\n",
    "import torch\n",
    "import numpy as np\n",
    "import matplotlib.pyplot as plt\n",
    "from langdetect import detect, DetectorFactory\n",
    "\n",
    "# Fix seed for consistent language detection results\n",
    "DetectorFactory.seed = 0\n",
    "\n",
    "# Set your YouTube API key and keyword\n",
    "api_key = 'API-KEY'\n",
    "keyword = \"oat milk\".lower()\n",
    "\n",
    "# Set up YouTube API client\n",
    "youtube = build('youtube', 'v3', developerKey=api_key)\n",
    "\n",
    "# Step 1: Fetch up to 25 valid English titles with the exact keyword\n",
    "titles = []\n",
    "next_page_token = None\n",
    "\n",
    "while len(titles) < 25:\n",
    "    search_response = youtube.search().list(\n",
    "        q=f'\"{keyword}\"',\n",
    "        part='snippet',\n",
    "        type='video',\n",
    "        order='date',\n",
    "        maxResults=50,  # Max per request\n",
    "        safeSearch='strict',\n",
    "        pageToken=next_page_token\n",
    "    ).execute()\n",
    "\n",
    "    for item in search_response['items']:\n",
    "        title = item['snippet']['title']\n",
    "        if keyword in title.lower():\n",
    "            try:\n",
    "                if detect(title) == 'en' and title not in titles:\n",
    "                    titles.append(title)\n",
    "                if len(titles) >= 25:\n",
    "                    break\n",
    "            except:\n",
    "                continue\n",
    "\n",
    "    next_page_token = search_response.get('nextPageToken')\n",
    "    if not next_page_token:\n",
    "        break\n",
    "\n",
    "print(f\"Found {len(titles)} relevant English video titles.\\n\")\n",
    "\n",
    "# Step 2: Load Cardiff NLP sentiment model\n",
    "model_name = \"cardiffnlp/twitter-roberta-base-sentiment\"\n",
    "tokenizer = AutoTokenizer.from_pretrained(model_name)\n",
    "model = AutoModelForSequenceClassification.from_pretrained(model_name)\n",
    "\n",
    "# Step 3: Sentiment classification\n",
    "labels = [\"Negative\", \"Neutral\", \"Positive\"]\n",
    "sentiment_counts = {label: 0 for label in labels}\n",
    "\n",
    "def classify_sentiment(text):\n",
    "    inputs = tokenizer(text, return_tensors=\"pt\", truncation=True)\n",
    "    outputs = model(**inputs)\n",
    "    scores = outputs.logits.detach().numpy()[0]\n",
    "    probs = np.exp(scores) / np.sum(np.exp(scores))  # softmax\n",
    "    return labels[np.argmax(probs)], float(np.max(probs))\n",
    "\n",
    "for title in titles:\n",
    "    label, score = classify_sentiment(title)\n",
    "    sentiment_counts[label] += 1\n",
    "\n",
    "# Step 4: Print sentiment results\n",
    "print(\"Sentiment Analysis of Recent English YouTube Titles:\")\n",
    "for sentiment, count in sentiment_counts.items():\n",
    "    print(f\"{sentiment}: {count}\")\n",
    "\n",
    "# Step 5: Pie chart\n",
    "plt.figure(figsize=(6, 6))\n",
    "plt.pie(\n",
    "    [sentiment_counts[\"Positive\"], sentiment_counts[\"Negative\"], sentiment_counts[\"Neutral\"]],\n",
    "    labels=[\"Positive\", \"Negative\", \"Neutral\"],\n",
    "    colors=['#4caf50', '#f44336', '#ffeb3b'],\n",
    "    autopct='%1.1f%%',\n",
    "    startangle=140\n",
    ")\n",
    "plt.title(f\"Sentiment Breakdown Based on Top-Ranked, Recent '{keyword}' Videos\")\n",
    "plt.axis('equal')\n",
    "plt.show()"
   ]
  },
  {
   "cell_type": "markdown",
   "metadata": {
    "id": "dZYMYl6HC3bs"
   },
   "source": [
    "## Widget #3: Top trending tags related to keyword\n",
    "Notes: Because of API call limits, the results are based off of up to 25 top videos related to the keyword (not comprehensive of all videos with keyword)"
   ]
  },
  {
   "cell_type": "code",
   "execution_count": null,
   "metadata": {
    "colab": {
     "base_uri": "https://localhost:8080/",
     "height": 625
    },
    "executionInfo": {
     "elapsed": 1393,
     "status": "ok",
     "timestamp": 1750887673598,
     "user": {
      "displayName": "Tanushri Pinjala",
      "userId": "15418905072701468699"
     },
     "user_tz": 420
    },
    "id": "wAwjhzHv80wB",
    "outputId": "6ad64571-1081-423c-d018-e2412b09f175"
   },
   "outputs": [
    {
     "name": "stdout",
     "output_type": "stream",
     "text": [
      "Found 25 English videos with titles containing 'oat milk'.\n"
     ]
    },
    {
     "data": {
      "image/png": "[encoded data removed]",
      "text/plain": [
       "<Figure size 1000x600 with 1 Axes>"
      ]
     },
     "metadata": {},
     "output_type": "display_data"
    }
   ],
   "source": [
    "from googleapiclient.discovery import build\n",
    "from langdetect import detect, DetectorFactory\n",
    "from collections import Counter\n",
    "import matplotlib.pyplot as plt\n",
    "\n",
    "# Fix seed for consistent language detection\n",
    "DetectorFactory.seed = 0\n",
    "\n",
    "# YouTube API setup\n",
    "api_key = 'API-KEY'\n",
    "youtube = build('youtube', 'v3', developerKey=api_key)\n",
    "\n",
    "keyword = \"oat milk\".lower()\n",
    "target_video_count = 25\n",
    "video_ids = []\n",
    "next_page_token = None\n",
    "\n",
    "# Step 1: Collect up to 25 English videos with the exact keyword\n",
    "while len(video_ids) < target_video_count:\n",
    "    search_response = youtube.search().list(\n",
    "        q=f'\"{keyword}\"',\n",
    "        part='snippet',\n",
    "        type='video',\n",
    "        maxResults=50,\n",
    "        safeSearch='strict',\n",
    "        pageToken=next_page_token\n",
    "    ).execute()\n",
    "\n",
    "    for item in search_response['items']:\n",
    "        title = item['snippet']['title']\n",
    "        try:\n",
    "            if detect(title) == 'en' and keyword in title.lower():\n",
    "                video_id = item['id']['videoId']\n",
    "                if video_id not in video_ids:\n",
    "                    video_ids.append(video_id)\n",
    "                if len(video_ids) >= target_video_count:\n",
    "                    break\n",
    "        except:\n",
    "            continue\n",
    "\n",
    "    next_page_token = search_response.get('nextPageToken')\n",
    "    if not next_page_token:\n",
    "        break\n",
    "\n",
    "print(f\"Found {len(video_ids)} English videos with titles containing '{keyword}'.\")\n",
    "\n",
    "if not video_ids:\n",
    "    print(\"No videos found. Exiting.\")\n",
    "else:\n",
    "    # Step 2: Fetch video details (tags)\n",
    "    video_response = youtube.videos().list(\n",
    "        part='snippet',\n",
    "        id=','.join(video_ids)\n",
    "    ).execute()\n",
    "\n",
    "    all_tags = []\n",
    "    for video in video_response['items']:\n",
    "        tags = video['snippet'].get('tags', [])\n",
    "        all_tags.extend(tags)\n",
    "\n",
    "    # Step 3: Count tag frequencies\n",
    "    tag_counts = Counter(all_tags)\n",
    "    filtered_tag_counts = {\n",
    "        tag: count for tag, count in tag_counts.items()\n",
    "        if keyword not in tag.lower() and len(tag) > 2\n",
    "    }\n",
    "\n",
    "    # Step 4: Show top 15 trending tags\n",
    "    top_tags = Counter(filtered_tag_counts).most_common(15)\n",
    "\n",
    "    if not top_tags:\n",
    "        print(\"No significant tags found besides the keyword.\")\n",
    "    else:\n",
    "        tags, counts = zip(*top_tags)\n",
    "\n",
    "        plt.figure(figsize=(10, 6))\n",
    "        plt.barh(tags[::-1], counts[::-1], color='#4caf50')\n",
    "        plt.xlabel('Frequency')\n",
    "        plt.title(f\"Top Trending Tags Related to '{keyword}'\")\n",
    "        plt.tight_layout()\n",
    "        plt.show()"
   ]
  }
 ],
 "metadata": {
  "colab": {
   "authorship_tag": "ABX9TyP+dPYL5KnVoRTQe3t3S+EG",
   "provenance": [
    {
     "file_id": "1qvvi3uFSYz5AZGVQLbqTxyyhDWAmTAzG",
     "timestamp": 1750888025386
    }
   ]
  },
  "kernelspec": {
   "display_name": "Python 3",
   "name": "python3"
  },
  "language_info": {
   "name": "python"
  },
  "widgets": {
   "application/vnd.jupyter.widget-state+json": {
    "06e90238f68d4737bfa3d6976e645868": {
     "model_module": "@jupyter-widgets/base",
     "model_module_version": "1.2.0",
     "model_name": "LayoutModel",
     "state": {
      "_model_module": "@jupyter-widgets/base",
      "_model_module_version": "1.2.0",
      "_model_name": "LayoutModel",
      "_view_count": null,
      "_view_module": "@jupyter-widgets/base",
      "_view_module_version": "1.2.0",
      "_view_name": "LayoutView",
      "align_content": null,
      "align_items": null,
      "align_self": null,
      "border": null,
      "bottom": null,
      "display": null,
      "flex": null,
      "flex_flow": null,
      "grid_area": null,
      "grid_auto_columns": null,
      "grid_auto_flow": null,
      "grid_auto_rows": null,
      "grid_column": null,
      "grid_gap": null,
      "grid_row": null,
      "grid_template_areas": null,
      "grid_template_columns": null,
      "grid_template_rows": null,
      "height": null,
      "justify_content": null,
      "justify_items": null,
      "left": null,
      "margin": null,
      "max_height": null,
      "max_width": null,
      "min_height": null,
      "min_width": null,
      "object_fit": null,
      "object_position": null,
      "order": null,
      "overflow": null,
      "overflow_x": null,
      "overflow_y": null,
      "padding": null,
      "right": null,
      "top": null,
      "visibility": null,
      "width": null
     }
    },
    "4b70f1d228674dbd9ba5ac776a027861": {
     "model_module": "@jupyter-widgets/controls",
     "model_module_version": "1.5.0",
     "model_name": "FloatProgressModel",
     "state": {
      "_dom_classes": [],
      "_model_module": "@jupyter-widgets/controls",
      "_model_module_version": "1.5.0",
      "_model_name": "FloatProgressModel",
      "_view_count": null,
      "_view_module": "@jupyter-widgets/controls",
      "_view_module_version": "1.5.0",
      "_view_name": "ProgressView",
      "bar_style": "success",
      "description": "",
      "description_tooltip": null,
      "layout": "IPY_MODEL_92ebbb1ce2aa45aaabaa29b8ba138d59",
      "max": 498679497,
      "min": 0,
      "orientation": "horizontal",
      "style": "IPY_MODEL_fa8b7ed663d445a6a9b59f264c3e7fd3",
      "value": 498679497
     }
    },
    "8526f90d34aa432aa28a0cae80f9da4f": {
     "model_module": "@jupyter-widgets/controls",
     "model_module_version": "1.5.0",
     "model_name": "DescriptionStyleModel",
     "state": {
      "_model_module": "@jupyter-widgets/controls",
      "_model_module_version": "1.5.0",
      "_model_name": "DescriptionStyleModel",
      "_view_count": null,
      "_view_module": "@jupyter-widgets/base",
      "_view_module_version": "1.2.0",
      "_view_name": "StyleView",
      "description_width": ""
     }
    },
    "92ebbb1ce2aa45aaabaa29b8ba138d59": {
     "model_module": "@jupyter-widgets/base",
     "model_module_version": "1.2.0",
     "model_name": "LayoutModel",
     "state": {
      "_model_module": "@jupyter-widgets/base",
      "_model_module_version": "1.2.0",
      "_model_name": "LayoutModel",
      "_view_count": null,
      "_view_module": "@jupyter-widgets/base",
      "_view_module_version": "1.2.0",
      "_view_name": "LayoutView",
      "align_content": null,
      "align_items": null,
      "align_self": null,
      "border": null,
      "bottom": null,
      "display": null,
      "flex": null,
      "flex_flow": null,
      "grid_area": null,
      "grid_auto_columns": null,
      "grid_auto_flow": null,
      "grid_auto_rows": null,
      "grid_column": null,
      "grid_gap": null,
      "grid_row": null,
      "grid_template_areas": null,
      "grid_template_columns": null,
      "grid_template_rows": null,
      "height": null,
      "justify_content": null,
      "justify_items": null,
      "left": null,
      "margin": null,
      "max_height": null,
      "max_width": null,
      "min_height": null,
      "min_width": null,
      "object_fit": null,
      "object_position": null,
      "order": null,
      "overflow": null,
      "overflow_x": null,
      "overflow_y": null,
      "padding": null,
      "right": null,
      "top": null,
      "visibility": null,
      "width": null
     }
    },
    "97601ed26d884be2b8720dcd0e9e4a8f": {
     "model_module": "@jupyter-widgets/controls",
     "model_module_version": "1.5.0",
     "model_name": "DescriptionStyleModel",
     "state": {
      "_model_module": "@jupyter-widgets/controls",
      "_model_module_version": "1.5.0",
      "_model_name": "DescriptionStyleModel",
      "_view_count": null,
      "_view_module": "@jupyter-widgets/base",
      "_view_module_version": "1.2.0",
      "_view_name": "StyleView",
      "description_width": ""
     }
    },
    "9aa991dcb6834f4bb292d6dad6efb580": {
     "model_module": "@jupyter-widgets/controls",
     "model_module_version": "1.5.0",
     "model_name": "HTMLModel",
     "state": {
      "_dom_classes": [],
      "_model_module": "@jupyter-widgets/controls",
      "_model_module_version": "1.5.0",
      "_model_name": "HTMLModel",
      "_view_count": null,
      "_view_module": "@jupyter-widgets/controls",
      "_view_module_version": "1.5.0",
      "_view_name": "HTMLView",
      "description": "",
      "description_tooltip": null,
      "layout": "IPY_MODEL_ed86f50adc0643e5aa74a0dbf146dcba",
      "placeholder": "​",
      "style": "IPY_MODEL_97601ed26d884be2b8720dcd0e9e4a8f",
      "value": "pytorch_model.bin: 100%"
     }
    },
    "ba13ff91b6e04b4eaa65fca21d2bf5a7": {
     "model_module": "@jupyter-widgets/base",
     "model_module_version": "1.2.0",
     "model_name": "LayoutModel",
     "state": {
      "_model_module": "@jupyter-widgets/base",
      "_model_module_version": "1.2.0",
      "_model_name": "LayoutModel",
      "_view_count": null,
      "_view_module": "@jupyter-widgets/base",
      "_view_module_version": "1.2.0",
      "_view_name": "LayoutView",
      "align_content": null,
      "align_items": null,
      "align_self": null,
      "border": null,
      "bottom": null,
      "display": null,
      "flex": null,
      "flex_flow": null,
      "grid_area": null,
      "grid_auto_columns": null,
      "grid_auto_flow": null,
      "grid_auto_rows": null,
      "grid_column": null,
      "grid_gap": null,
      "grid_row": null,
      "grid_template_areas": null,
      "grid_template_columns": null,
      "grid_template_rows": null,
      "height": null,
      "justify_content": null,
      "justify_items": null,
      "left": null,
      "margin": null,
      "max_height": null,
      "max_width": null,
      "min_height": null,
      "min_width": null,
      "object_fit": null,
      "object_position": null,
      "order": null,
      "overflow": null,
      "overflow_x": null,
      "overflow_y": null,
      "padding": null,
      "right": null,
      "top": null,
      "visibility": null,
      "width": null
     }
    },
    "c1ab4fb53c7649fb83d3965c0f78f68b": {
     "model_module": "@jupyter-widgets/controls",
     "model_module_version": "1.5.0",
     "model_name": "HTMLModel",
     "state": {
      "_dom_classes": [],
      "_model_module": "@jupyter-widgets/controls",
      "_model_module_version": "1.5.0",
      "_model_name": "HTMLModel",
      "_view_count": null,
      "_view_module": "@jupyter-widgets/controls",
      "_view_module_version": "1.5.0",
      "_view_name": "HTMLView",
      "description": "",
      "description_tooltip": null,
      "layout": "IPY_MODEL_ba13ff91b6e04b4eaa65fca21d2bf5a7",
      "placeholder": "​",
      "style": "IPY_MODEL_8526f90d34aa432aa28a0cae80f9da4f",
      "value": " 499M/499M [00:08&lt;00:00, 59.4MB/s]"
     }
    },
    "cdb236b2d2a04c35a7aa6c387261c041": {
     "model_module": "@jupyter-widgets/controls",
     "model_module_version": "1.5.0",
     "model_name": "HBoxModel",
     "state": {
      "_dom_classes": [],
      "_model_module": "@jupyter-widgets/controls",
      "_model_module_version": "1.5.0",
      "_model_name": "HBoxModel",
      "_view_count": null,
      "_view_module": "@jupyter-widgets/controls",
      "_view_module_version": "1.5.0",
      "_view_name": "HBoxView",
      "box_style": "",
      "children": [
       "IPY_MODEL_9aa991dcb6834f4bb292d6dad6efb580",
       "IPY_MODEL_4b70f1d228674dbd9ba5ac776a027861",
       "IPY_MODEL_c1ab4fb53c7649fb83d3965c0f78f68b"
      ],
      "layout": "IPY_MODEL_06e90238f68d4737bfa3d6976e645868"
     }
    },
    "ed86f50adc0643e5aa74a0dbf146dcba": {
     "model_module": "@jupyter-widgets/base",
     "model_module_version": "1.2.0",
     "model_name": "LayoutModel",
     "state": {
      "_model_module": "@jupyter-widgets/base",
      "_model_module_version": "1.2.0",
      "_model_name": "LayoutModel",
      "_view_count": null,
      "_view_module": "@jupyter-widgets/base",
      "_view_module_version": "1.2.0",
      "_view_name": "LayoutView",
      "align_content": null,
      "align_items": null,
      "align_self": null,
      "border": null,
      "bottom": null,
      "display": null,
      "flex": null,
      "flex_flow": null,
      "grid_area": null,
      "grid_auto_columns": null,
      "grid_auto_flow": null,
      "grid_auto_rows": null,
      "grid_column": null,
      "grid_gap": null,
      "grid_row": null,
      "grid_template_areas": null,
      "grid_template_columns": null,
      "grid_template_rows": null,
      "height": null,
      "justify_content": null,
      "justify_items": null,
      "left": null,
      "margin": null,
      "max_height": null,
      "max_width": null,
      "min_height": null,
      "min_width": null,
      "object_fit": null,
      "object_position": null,
      "order": null,
      "overflow": null,
      "overflow_x": null,
      "overflow_y": null,
      "padding": null,
      "right": null,
      "top": null,
      "visibility": null,
      "width": null
     }
    },
    "fa8b7ed663d445a6a9b59f264c3e7fd3": {
     "model_module": "@jupyter-widgets/controls",
     "model_module_version": "1.5.0",
     "model_name": "ProgressStyleModel",
     "state": {
      "_model_module": "@jupyter-widgets/controls",
      "_model_module_version": "1.5.0",
      "_model_name": "ProgressStyleModel",
      "_view_count": null,
      "_view_module": "@jupyter-widgets/base",
      "_view_module_version": "1.2.0",
      "_view_name": "StyleView",
      "bar_color": null,
      "description_width": ""
     }
    }
   }
  }
 },
 "nbformat": 4,
 "nbformat_minor": 0
}
